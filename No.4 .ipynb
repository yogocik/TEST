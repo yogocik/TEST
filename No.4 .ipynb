{
 "cells": [
  {
   "cell_type": "markdown",
   "metadata": {},
   "source": [
    "# 4.\tBuat fungsi untuk menentukan apakah string yang berisi sequence bracket seimbang atau tidak. Apabila seimbang, fungsi mengembalikan True, apabila tidak, False. Cases:\n",
    "a.\t{[()]}\n",
    "b.\t{[(])}\n",
    "c.\t{{[[(())]]}}\n",
    "d.\t{(([[{([[{}]])}]]))}\n",
    "e.\t{[{[(({[]})]]}]}"
   ]
  },
  {
   "cell_type": "code",
   "execution_count": 90,
   "metadata": {},
   "outputs": [],
   "source": [
    "def balance_or_not(inp):\n",
    "    length_inp      = len(inp)\n",
    "    if length_inp%2!=0:          # Check Equal Length (Even number)\n",
    "        return False\n",
    "    else:\n",
    "        conversion_to_end = {    # Mirror Parentheses \n",
    "            \"{\":\"}\",\n",
    "            \"(\":\")\",\n",
    "            \"[\":\"]\"\n",
    "        }\n",
    "        half_inp_awal   = inp[:int(0.5*length_inp)]  # Setengah bagian input awal\n",
    "        half_inp_akhir  = inp[int(0.5*length_inp):]  # Setengah bagian input akhir\n",
    "        new_stack       = []                         # Empty list untuk mirror parenthes\n",
    "        for i in half_inp_awal:\n",
    "            if i in conversion_to_end.keys():\n",
    "                new_stack.insert(0,conversion_to_end[i])\n",
    "        mirror = \"\".join(new_stack)                  # Join list to string (mirror)\n",
    "        if mirror == half_inp_akhir:\n",
    "            return True\n",
    "        else:\n",
    "            return False"
   ]
  },
  {
   "cell_type": "code",
   "execution_count": 91,
   "metadata": {},
   "outputs": [
    {
     "name": "stdout",
     "output_type": "stream",
     "text": [
      "{[()]} : True\n",
      "{[(])} : False\n",
      "{{[[(())]]}} : True\n",
      "{(([[{([[{}]])}]]))} : True\n",
      "{[{[(({[]})]]}]} : False\n"
     ]
    }
   ],
   "source": [
    "no = [\"{[()]}\", \"{[(])}\",\"{{[[(())]]}}\",\"{(([[{([[{}]])}]]))}\",\"{[{[(({[]})]]}]}\"]\n",
    "for i in no:\n",
    "    print(f'{i} : {balance_or_not(i)}')"
   ]
  }
 ],
 "metadata": {
  "kernelspec": {
   "display_name": "Python 3",
   "language": "python",
   "name": "python3"
  },
  "language_info": {
   "codemirror_mode": {
    "name": "ipython",
    "version": 3
   },
   "file_extension": ".py",
   "mimetype": "text/x-python",
   "name": "python",
   "nbconvert_exporter": "python",
   "pygments_lexer": "ipython3",
   "version": "3.7.7"
  }
 },
 "nbformat": 4,
 "nbformat_minor": 4
}
