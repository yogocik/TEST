{
 "cells": [
  {
   "cell_type": "markdown",
   "metadata": {},
   "source": [
    "# 3.\tIlustrasikan mutable dan immutable object."
   ]
  },
  {
   "cell_type": "markdown",
   "metadata": {},
   "source": [
    "## Object dalam python yang digunakan untuk ilustrasi adalah string dan list"
   ]
  },
  {
   "cell_type": "code",
   "execution_count": 14,
   "metadata": {},
   "outputs": [
    {
     "name": "stdout",
     "output_type": "stream",
     "text": [
      "<class 'tuple'> : (1, 2, 3, 4)\n",
      "Element atau Object tidak bisa digantikan (immutable)\n",
      "\n",
      "<class 'list'> : [1, 2, 3, 4]\n",
      "Object dapat diganti (mutable):[1, 2, 100, 4]\n"
     ]
    }
   ],
   "source": [
    "a = (1,2,3,4)    \n",
    "b = [1,2,3,4]             \n",
    "differ_a = 2\n",
    "differ_b = 100\n",
    "\n",
    "# Prove the mutability\n",
    "print(f'{type(a)} : {a}')\n",
    "try:\n",
    "    a[0] = differ_a\n",
    "    print(f'Object dapat diganti (mutable):{b}')\n",
    "except TypeError:\n",
    "    print('Element atau Object tidak bisa digantikan (immutable)')\n",
    "\n",
    "print(f\"\\n{type(b)} : {b}\")\n",
    "try:\n",
    "    b[2] = differ_b\n",
    "    print(f'Object dapat diganti (mutable):{b}')\n",
    "except TypeError:\n",
    "    print('Element atau Object tidak bisa digantikan (immutable)')"
   ]
  }
 ],
 "metadata": {
  "kernelspec": {
   "display_name": "Python 3",
   "language": "python",
   "name": "python3"
  },
  "language_info": {
   "codemirror_mode": {
    "name": "ipython",
    "version": 3
   },
   "file_extension": ".py",
   "mimetype": "text/x-python",
   "name": "python",
   "nbconvert_exporter": "python",
   "pygments_lexer": "ipython3",
   "version": "3.7.7"
  }
 },
 "nbformat": 4,
 "nbformat_minor": 4
}
