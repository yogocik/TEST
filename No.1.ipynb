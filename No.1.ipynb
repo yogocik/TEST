{
 "cells": [
  {
   "cell_type": "markdown",
   "metadata": {},
   "source": [
    "# 1.\tData: https://1drv.ms/u/s!AnEJc3HboyBEwGxZkk_3-Uys7Cz9?e=mihEAR. Merupakan log sensor jumlah pengunjung yang berupa counter dan diambil setiap beberapa menit. Setiap pukul 00:00 counter akan direset ke nilai 0. \n",
    "Dari data yg diberikan, buatlah chart trend jumlah pengunjung untuk sensor 265, 271, 277 dan 283: \n",
    "a.\tPer jam, untuk tanggal 31-08-2020\n",
    "b.\tPer hari dalam rentang tanggal 17-08-2020 s/d 31-08-2020.\n"
   ]
  },
  {
   "cell_type": "code",
   "execution_count": 1,
   "metadata": {},
   "outputs": [],
   "source": [
    "import pandas as pd"
   ]
  },
  {
   "cell_type": "code",
   "execution_count": 2,
   "metadata": {},
   "outputs": [
    {
     "data": {
      "text/html": [
       "<div>\n",
       "<style scoped>\n",
       "    .dataframe tbody tr th:only-of-type {\n",
       "        vertical-align: middle;\n",
       "    }\n",
       "\n",
       "    .dataframe tbody tr th {\n",
       "        vertical-align: top;\n",
       "    }\n",
       "\n",
       "    .dataframe thead th {\n",
       "        text-align: right;\n",
       "    }\n",
       "</style>\n",
       "<table border=\"1\" class=\"dataframe\">\n",
       "  <thead>\n",
       "    <tr style=\"text-align: right;\">\n",
       "      <th></th>\n",
       "      <th>id</th>\n",
       "      <th>timestamp</th>\n",
       "      <th>sensor_id</th>\n",
       "      <th>total</th>\n",
       "    </tr>\n",
       "  </thead>\n",
       "  <tbody>\n",
       "    <tr>\n",
       "      <th>0</th>\n",
       "      <td>68038</td>\n",
       "      <td>8/17/2020 7:51</td>\n",
       "      <td>265</td>\n",
       "      <td>118</td>\n",
       "    </tr>\n",
       "    <tr>\n",
       "      <th>1</th>\n",
       "      <td>68039</td>\n",
       "      <td>8/17/2020 7:51</td>\n",
       "      <td>271</td>\n",
       "      <td>247</td>\n",
       "    </tr>\n",
       "    <tr>\n",
       "      <th>2</th>\n",
       "      <td>68040</td>\n",
       "      <td>8/17/2020 7:51</td>\n",
       "      <td>277</td>\n",
       "      <td>247</td>\n",
       "    </tr>\n",
       "    <tr>\n",
       "      <th>3</th>\n",
       "      <td>68041</td>\n",
       "      <td>8/17/2020 7:51</td>\n",
       "      <td>283</td>\n",
       "      <td>247</td>\n",
       "    </tr>\n",
       "    <tr>\n",
       "      <th>4</th>\n",
       "      <td>68042</td>\n",
       "      <td>8/17/2020 7:56</td>\n",
       "      <td>265</td>\n",
       "      <td>119</td>\n",
       "    </tr>\n",
       "  </tbody>\n",
       "</table>\n",
       "</div>"
      ],
      "text/plain": [
       "      id       timestamp  sensor_id  total\n",
       "0  68038  8/17/2020 7:51        265    118\n",
       "1  68039  8/17/2020 7:51        271    247\n",
       "2  68040  8/17/2020 7:51        277    247\n",
       "3  68041  8/17/2020 7:51        283    247\n",
       "4  68042  8/17/2020 7:56        265    119"
      ]
     },
     "execution_count": 2,
     "metadata": {},
     "output_type": "execute_result"
    }
   ],
   "source": [
    "df = pd.read_csv('202009020838.csv')\n",
    "df.head()"
   ]
  },
  {
   "cell_type": "code",
   "execution_count": 6,
   "metadata": {},
   "outputs": [],
   "source": [
    "df.timestamp = pd.to_datetime(df.timestamp,format)"
   ]
  },
  {
   "cell_type": "code",
   "execution_count": 12,
   "metadata": {},
   "outputs": [
    {
     "data": {
      "text/html": [
       "<div>\n",
       "<style scoped>\n",
       "    .dataframe tbody tr th:only-of-type {\n",
       "        vertical-align: middle;\n",
       "    }\n",
       "\n",
       "    .dataframe tbody tr th {\n",
       "        vertical-align: top;\n",
       "    }\n",
       "\n",
       "    .dataframe thead th {\n",
       "        text-align: right;\n",
       "    }\n",
       "</style>\n",
       "<table border=\"1\" class=\"dataframe\">\n",
       "  <thead>\n",
       "    <tr style=\"text-align: right;\">\n",
       "      <th></th>\n",
       "      <th>id</th>\n",
       "      <th>timestamp</th>\n",
       "      <th>sensor_id</th>\n",
       "      <th>total</th>\n",
       "    </tr>\n",
       "  </thead>\n",
       "  <tbody>\n",
       "    <tr>\n",
       "      <th>0</th>\n",
       "      <td>68038</td>\n",
       "      <td>2020-08-17 07:51:00</td>\n",
       "      <td>265</td>\n",
       "      <td>118</td>\n",
       "    </tr>\n",
       "    <tr>\n",
       "      <th>1</th>\n",
       "      <td>68039</td>\n",
       "      <td>2020-08-17 07:51:00</td>\n",
       "      <td>271</td>\n",
       "      <td>247</td>\n",
       "    </tr>\n",
       "    <tr>\n",
       "      <th>2</th>\n",
       "      <td>68040</td>\n",
       "      <td>2020-08-17 07:51:00</td>\n",
       "      <td>277</td>\n",
       "      <td>247</td>\n",
       "    </tr>\n",
       "    <tr>\n",
       "      <th>3</th>\n",
       "      <td>68041</td>\n",
       "      <td>2020-08-17 07:51:00</td>\n",
       "      <td>283</td>\n",
       "      <td>247</td>\n",
       "    </tr>\n",
       "    <tr>\n",
       "      <th>4</th>\n",
       "      <td>68042</td>\n",
       "      <td>2020-08-17 07:56:00</td>\n",
       "      <td>265</td>\n",
       "      <td>119</td>\n",
       "    </tr>\n",
       "    <tr>\n",
       "      <th>5</th>\n",
       "      <td>68043</td>\n",
       "      <td>2020-08-17 07:56:00</td>\n",
       "      <td>271</td>\n",
       "      <td>254</td>\n",
       "    </tr>\n",
       "    <tr>\n",
       "      <th>6</th>\n",
       "      <td>68044</td>\n",
       "      <td>2020-08-17 07:56:00</td>\n",
       "      <td>277</td>\n",
       "      <td>254</td>\n",
       "    </tr>\n",
       "    <tr>\n",
       "      <th>7</th>\n",
       "      <td>68045</td>\n",
       "      <td>2020-08-17 07:56:00</td>\n",
       "      <td>283</td>\n",
       "      <td>254</td>\n",
       "    </tr>\n",
       "    <tr>\n",
       "      <th>8</th>\n",
       "      <td>68046</td>\n",
       "      <td>2020-08-17 08:01:00</td>\n",
       "      <td>265</td>\n",
       "      <td>119</td>\n",
       "    </tr>\n",
       "    <tr>\n",
       "      <th>9</th>\n",
       "      <td>68047</td>\n",
       "      <td>2020-08-17 08:01:00</td>\n",
       "      <td>271</td>\n",
       "      <td>260</td>\n",
       "    </tr>\n",
       "  </tbody>\n",
       "</table>\n",
       "</div>"
      ],
      "text/plain": [
       "      id           timestamp  sensor_id  total\n",
       "0  68038 2020-08-17 07:51:00        265    118\n",
       "1  68039 2020-08-17 07:51:00        271    247\n",
       "2  68040 2020-08-17 07:51:00        277    247\n",
       "3  68041 2020-08-17 07:51:00        283    247\n",
       "4  68042 2020-08-17 07:56:00        265    119\n",
       "5  68043 2020-08-17 07:56:00        271    254\n",
       "6  68044 2020-08-17 07:56:00        277    254\n",
       "7  68045 2020-08-17 07:56:00        283    254\n",
       "8  68046 2020-08-17 08:01:00        265    119\n",
       "9  68047 2020-08-17 08:01:00        271    260"
      ]
     },
     "execution_count": 12,
     "metadata": {},
     "output_type": "execute_result"
    }
   ],
   "source": [
    "selected = df.loc[(df['sensor_id'] == 265) | (df['sensor_id'] == 271)| (df['sensor_id'] == 277) | (df['sensor_id'] == 283)]\n",
    "selected.head(10)"
   ]
  },
  {
   "cell_type": "code",
   "execution_count": 21,
   "metadata": {},
   "outputs": [],
   "source": [
    "selected.drop(['id'],axis=1,inplace=True)"
   ]
  },
  {
   "cell_type": "code",
   "execution_count": 23,
   "metadata": {},
   "outputs": [
    {
     "data": {
      "text/html": [
       "<div>\n",
       "<style scoped>\n",
       "    .dataframe tbody tr th:only-of-type {\n",
       "        vertical-align: middle;\n",
       "    }\n",
       "\n",
       "    .dataframe tbody tr th {\n",
       "        vertical-align: top;\n",
       "    }\n",
       "\n",
       "    .dataframe thead th {\n",
       "        text-align: right;\n",
       "    }\n",
       "</style>\n",
       "<table border=\"1\" class=\"dataframe\">\n",
       "  <thead>\n",
       "    <tr style=\"text-align: right;\">\n",
       "      <th></th>\n",
       "      <th>timestamp</th>\n",
       "      <th>sensor_id</th>\n",
       "      <th>total</th>\n",
       "    </tr>\n",
       "  </thead>\n",
       "  <tbody>\n",
       "    <tr>\n",
       "      <th>0</th>\n",
       "      <td>2020-08-17 07:51:00</td>\n",
       "      <td>265</td>\n",
       "      <td>118</td>\n",
       "    </tr>\n",
       "    <tr>\n",
       "      <th>1</th>\n",
       "      <td>2020-08-17 07:51:00</td>\n",
       "      <td>271</td>\n",
       "      <td>247</td>\n",
       "    </tr>\n",
       "    <tr>\n",
       "      <th>2</th>\n",
       "      <td>2020-08-17 07:51:00</td>\n",
       "      <td>277</td>\n",
       "      <td>247</td>\n",
       "    </tr>\n",
       "    <tr>\n",
       "      <th>3</th>\n",
       "      <td>2020-08-17 07:51:00</td>\n",
       "      <td>283</td>\n",
       "      <td>247</td>\n",
       "    </tr>\n",
       "    <tr>\n",
       "      <th>4</th>\n",
       "      <td>2020-08-17 07:56:00</td>\n",
       "      <td>265</td>\n",
       "      <td>119</td>\n",
       "    </tr>\n",
       "  </tbody>\n",
       "</table>\n",
       "</div>"
      ],
      "text/plain": [
       "            timestamp  sensor_id  total\n",
       "0 2020-08-17 07:51:00        265    118\n",
       "1 2020-08-17 07:51:00        271    247\n",
       "2 2020-08-17 07:51:00        277    247\n",
       "3 2020-08-17 07:51:00        283    247\n",
       "4 2020-08-17 07:56:00        265    119"
      ]
     },
     "execution_count": 23,
     "metadata": {},
     "output_type": "execute_result"
    }
   ],
   "source": [
    "selected.head()"
   ]
  },
  {
   "cell_type": "code",
   "execution_count": 29,
   "metadata": {},
   "outputs": [],
   "source": [
    "selected.set_index('timestamp',inplace=True)"
   ]
  },
  {
   "cell_type": "code",
   "execution_count": 34,
   "metadata": {},
   "outputs": [],
   "source": [
    "only_310820 = selected.loc['2020-08-31']\n",
    "only_277    = only_310820[only_310820['sensor_id']==277]\n",
    "only_271    = only_310820[only_310820['sensor_id']==271]\n",
    "only_283    = only_310820[only_310820['sensor_id']==283]\n",
    "only_265    = only_310820[only_310820['sensor_id']==265]"
   ]
  },
  {
   "cell_type": "code",
   "execution_count": 38,
   "metadata": {},
   "outputs": [
    {
     "data": {
      "text/html": [
       "<div>\n",
       "<style scoped>\n",
       "    .dataframe tbody tr th:only-of-type {\n",
       "        vertical-align: middle;\n",
       "    }\n",
       "\n",
       "    .dataframe tbody tr th {\n",
       "        vertical-align: top;\n",
       "    }\n",
       "\n",
       "    .dataframe thead th {\n",
       "        text-align: right;\n",
       "    }\n",
       "</style>\n",
       "<table border=\"1\" class=\"dataframe\">\n",
       "  <thead>\n",
       "    <tr style=\"text-align: right;\">\n",
       "      <th></th>\n",
       "      <th>sensor_id</th>\n",
       "      <th>total</th>\n",
       "    </tr>\n",
       "    <tr>\n",
       "      <th>timestamp</th>\n",
       "      <th></th>\n",
       "      <th></th>\n",
       "    </tr>\n",
       "  </thead>\n",
       "  <tbody>\n",
       "    <tr>\n",
       "      <th>2020-08-31 19:35:00</th>\n",
       "      <td>265</td>\n",
       "      <td>20</td>\n",
       "    </tr>\n",
       "    <tr>\n",
       "      <th>2020-08-31 23:25:00</th>\n",
       "      <td>265</td>\n",
       "      <td>0</td>\n",
       "    </tr>\n",
       "    <tr>\n",
       "      <th>2020-08-31 12:13:00</th>\n",
       "      <td>265</td>\n",
       "      <td>20</td>\n",
       "    </tr>\n",
       "    <tr>\n",
       "      <th>2020-08-31 15:59:00</th>\n",
       "      <td>265</td>\n",
       "      <td>20</td>\n",
       "    </tr>\n",
       "    <tr>\n",
       "      <th>2020-08-31 19:37:00</th>\n",
       "      <td>265</td>\n",
       "      <td>20</td>\n",
       "    </tr>\n",
       "  </tbody>\n",
       "</table>\n",
       "</div>"
      ],
      "text/plain": [
       "                     sensor_id  total\n",
       "timestamp                            \n",
       "2020-08-31 19:35:00        265     20\n",
       "2020-08-31 23:25:00        265      0\n",
       "2020-08-31 12:13:00        265     20\n",
       "2020-08-31 15:59:00        265     20\n",
       "2020-08-31 19:37:00        265     20"
      ]
     },
     "execution_count": 38,
     "metadata": {},
     "output_type": "execute_result"
    }
   ],
   "source": [
    "only_265.head()"
   ]
  },
  {
   "cell_type": "code",
   "execution_count": 37,
   "metadata": {},
   "outputs": [
    {
     "data": {
      "image/png": "[encoded data removed]",
      "text/plain": [
       "<Figure size 432x288 with 1 Axes>"
      ]
     },
     "metadata": {
      "needs_background": "light"
     },
     "output_type": "display_data"
    },
    {
     "data": {
      "image/png": "[encoded data removed]",
      "text/plain": [
       "<Figure size 432x288 with 1 Axes>"
      ]
     },
     "metadata": {
      "needs_background": "light"
     },
     "output_type": "display_data"
    }
   ],
   "source": [
    "import matplotlib.pyplot as plt\n",
    "import matplotlib.dates as mdates\n",
    "hours = mdates.HourLocator(interval = 1)\n",
    "h_fmt = mdates.DateFormatter('%H:%M:%S')\n",
    "\n",
    "\n",
    "with pd.plotting.plot_params.use('x_compat', True): \n",
    "  ax = only_277['total'].plot()\n",
    "  ax.xaxis.set_major_locator(hours)\n",
    "  ax.xaxis.set_major_formatter(h_fmt)\n",
    "\n",
    "plt.show()\n",
    "\n",
    "with pd.plotting.plot_params.use('x_compat', True): \n",
    "  ax = only_271['total'].plot()\n",
    "  ax.xaxis.set_major_locator(hours)\n",
    "  ax.xaxis.set_major_formatter(h_fmt)\n",
    "\n",
    "plt.show()\n",
    "\n",
    "with pd.plotting.plot_params.use('x_compat', True): \n",
    "  ax = only_283['total'].plot()\n",
    "  ax.xaxis.set_major_locator(hours)\n",
    "  ax.xaxis.set_major_formatter(h_fmt)\n",
    "\n",
    "plt.show()"
   ]
  }
 ],
 "metadata": {
  "kernelspec": {
   "display_name": "Python 3",
   "language": "python",
   "name": "python3"
  },
  "language_info": {
   "codemirror_mode": {
    "name": "ipython",
    "version": 3
   },
   "file_extension": ".py",
   "mimetype": "text/x-python",
   "name": "python",
   "nbconvert_exporter": "python",
   "pygments_lexer": "ipython3",
   "version": "3.7.7"
  }
 },
 "nbformat": 4,
 "nbformat_minor": 4
}
