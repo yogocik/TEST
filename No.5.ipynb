{
 "cells": [
  {
   "cell_type": "markdown",
   "metadata": {},
   "source": [
    "# 5.\tLet the fun begins XD. Kevin and Stuart want to play. Game Rules:\n",
    "a.\tMasing-masing player, Kevin dan Stuart diberikan string S yang sama. \n",
    "b.\tKeduanya harus membuat substrings dari S.\n",
    "c.\tStuart harus membuat substring diawali dengan consonant. Kevin harus membuat substring diawali dengan vowel.\n",
    "d.\tGame berakhir jika semua player telah membuat semua kemungkinan substring dari S.\n",
    "e.\tPemain memperoleh poin +1 untuk setiap kemunculan substring yang dibuat dalam S. Contoh: \n",
    "S = BANANA\n",
    "Kevin : ANA => kemunculan 2x maka Kevin memperoleh poin +2\n",
    "\n",
    "Tugas:\n",
    "Tentukan pemenang dari game ini beserta score nya dari input string S yang diberikan. S hanya berisi uppercase letters [A-Z]. Apabila hasil seri, maka output adalah DRAW.\n",
    "Cases: TINTIN, ABBABABABOBA, NANAS, UAUUUOAAH, DINGDINGDONGDINGTALK\n"
   ]
  },
  {
   "cell_type": "code",
   "execution_count": 17,
   "metadata": {},
   "outputs": [],
   "source": [
    "def substring_game_relative_to_vowel(inp,name_vow,name_con,diction_vow):\n",
    "    score_vow = 0       # Score board untuk vowel substring\n",
    "    score_con = 0       # Score board untuk consonant substring\n",
    "    Peserta = {name_vow:score_vow,\n",
    "              name_con:score_con}   # List peserta vowel-consonant dengan score masing2\n",
    "    l = len(inp)                    # Panjang String\n",
    "    for i in range(l):              # Mulai generate substring dan scoring\n",
    "        if inp[i] in diction_vow:\n",
    "            Peserta[name_vow] += (l - i)   \n",
    "        else:\n",
    "            Peserta[name_con] += (l - i)\n",
    "\n",
    "    if Peserta[name_vow] > Peserta[name_con]:\n",
    "        print(f'Pemenangnya adalah {name_vow} dengan score {Peserta[name_vow]:d}')\n",
    "    elif Peserta[name_con] > Peserta[name_vow]:\n",
    "        print(f'Pemenangnya adalah {name_con} dengan score {Peserta[name_con]:d}')\n",
    "    else:\n",
    "        print('Tidak ada yang Menang (DRAW)')"
   ]
  },
  {
   "cell_type": "code",
   "execution_count": 18,
   "metadata": {},
   "outputs": [
    {
     "name": "stdout",
     "output_type": "stream",
     "text": [
      "Pemenangnya adalah Stuart dengan score 14\n",
      "Pemenangnya adalah Stuart dengan score 41\n",
      "Pemenangnya adalah Stuart dengan score 9\n",
      "Pemenangnya adalah Kevin dengan score 44\n",
      "Pemenangnya adalah Stuart dengan score 155\n"
     ]
    }
   ],
   "source": [
    "ref_vowel = ['A','E','I','O','U']\n",
    "Peserta_vowel = \"Kevin\"\n",
    "Peserta_consonant = \"Stuart\"\n",
    "CASE = [\"TINTIN\",\"ABBABABABOBA\",\"NANAS\",\"UAUUUOAAH\",\"DINGDINGDONGDINGTALK\"]\n",
    "for i in CASE:\n",
    "    substring_game_relative_to_vowel(i,Peserta_vowel,Peserta_consonant,ref_vowel)"
   ]
  }
 ],
 "metadata": {
  "kernelspec": {
   "display_name": "Python 3",
   "language": "python",
   "name": "python3"
  },
  "language_info": {
   "codemirror_mode": {
    "name": "ipython",
    "version": 3
   },
   "file_extension": ".py",
   "mimetype": "text/x-python",
   "name": "python",
   "nbconvert_exporter": "python",
   "pygments_lexer": "ipython3",
   "version": "3.7.7"
  }
 },
 "nbformat": 4,
 "nbformat_minor": 4
}
